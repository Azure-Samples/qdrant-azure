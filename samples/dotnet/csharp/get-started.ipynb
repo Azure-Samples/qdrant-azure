{
 "cells": [
  {
   "cell_type": "code",
   "execution_count": 2,
   "metadata": {
    "dotnet_interactive": {
     "language": "csharp"
    },
    "polyglot_notebook": {
     "kernelName": "csharp"
    }
   },
   "outputs": [
    {
     "data": {
      "text/html": [
       "<div><div><strong>Restore sources</strong><ul><li><span>/workspaces/qdrant-dotnet-sdk-test/Packages/</span></li></ul></div><div></div><div><strong>Installed Packages</strong><ul><li><span>Qdrant.Client, 0.2.0-alpha.0</span></li></ul></div></div>"
      ]
     },
     "metadata": {},
     "output_type": "display_data"
    }
   ],
   "source": [
    "#r \"nuget:Qdrant.Client,1.7.0\""
   ]
  },
  {
   "cell_type": "code",
   "execution_count": 3,
   "metadata": {
    "dotnet_interactive": {
     "language": "csharp"
    },
    "polyglot_notebook": {
     "kernelName": "csharp"
    }
   },
   "outputs": [],
   "source": [
    "using Qdrant.Client;\n",
    "using Qdrant.Client.Grpc;"
   ]
  },
  {
   "cell_type": "markdown",
   "metadata": {},
   "source": [
    "## Create client"
   ]
  },
  {
   "cell_type": "code",
   "execution_count": 4,
   "metadata": {
    "dotnet_interactive": {
     "language": "csharp"
    },
    "polyglot_notebook": {
     "kernelName": "csharp"
    }
   },
   "outputs": [],
   "source": [
    "var client = new QdrantClient(host: \"localhost\",port: 6334,https:false);"
   ]
  },
  {
   "cell_type": "markdown",
   "metadata": {},
   "source": [
    "## Clean collections"
   ]
  },
  {
   "cell_type": "code",
   "execution_count": 5,
   "metadata": {
    "dotnet_interactive": {
     "language": "csharp"
    },
    "polyglot_notebook": {
     "kernelName": "csharp"
    }
   },
   "outputs": [],
   "source": [
    "var collections = await client.ListCollectionsAsync();"
   ]
  },
  {
   "cell_type": "code",
   "execution_count": 6,
   "metadata": {
    "dotnet_interactive": {
     "language": "csharp"
    },
    "polyglot_notebook": {
     "kernelName": "csharp"
    }
   },
   "outputs": [],
   "source": [
    "if(collections.Where(x => x.Contains(\"movie_collection\")).Count() > 0) \n",
    "    await client.DeleteCollectionAsync(\"movie_collection\");"
   ]
  },
  {
   "cell_type": "markdown",
   "metadata": {},
   "source": [
    "## List collections"
   ]
  },
  {
   "cell_type": "code",
   "execution_count": 7,
   "metadata": {
    "dotnet_interactive": {
     "language": "csharp"
    },
    "polyglot_notebook": {
     "kernelName": "csharp"
    }
   },
   "outputs": [
    {
     "data": {
      "text/html": [
       "<div class=\"dni-plaintext\"><pre>[  ]</pre></div><style>\r\n",
       ".dni-code-hint {\r\n",
       "    font-style: italic;\r\n",
       "    overflow: hidden;\r\n",
       "    white-space: nowrap;\r\n",
       "}\r\n",
       ".dni-treeview {\r\n",
       "    white-space: nowrap;\r\n",
       "}\r\n",
       ".dni-treeview td {\r\n",
       "    vertical-align: top;\r\n",
       "    text-align: start;\r\n",
       "}\r\n",
       "details.dni-treeview {\r\n",
       "    padding-left: 1em;\r\n",
       "}\r\n",
       "table td {\r\n",
       "    text-align: start;\r\n",
       "}\r\n",
       "table tr { \r\n",
       "    vertical-align: top; \r\n",
       "    margin: 0em 0px;\r\n",
       "}\r\n",
       "table tr td pre \r\n",
       "{ \r\n",
       "    vertical-align: top !important; \r\n",
       "    margin: 0em 0px !important;\r\n",
       "} \r\n",
       "table th {\r\n",
       "    text-align: start;\r\n",
       "}\r\n",
       "</style>"
      ]
     },
     "metadata": {},
     "output_type": "display_data"
    }
   ],
   "source": [
    "await client.ListCollectionsAsync()"
   ]
  },
  {
   "cell_type": "markdown",
   "metadata": {},
   "source": [
    "## Create collection"
   ]
  },
  {
   "cell_type": "code",
   "execution_count": 8,
   "metadata": {
    "dotnet_interactive": {
     "language": "csharp"
    },
    "polyglot_notebook": {
     "kernelName": "csharp"
    }
   },
   "outputs": [],
   "source": [
    "await client.CreateCollectionAsync(\"movie_collection\", new VectorParams { Size=2, Distance=Distance.Cosine})"
   ]
  },
  {
   "cell_type": "code",
   "execution_count": 9,
   "metadata": {
    "dotnet_interactive": {
     "language": "csharp"
    },
    "polyglot_notebook": {
     "kernelName": "csharp"
    }
   },
   "outputs": [
    {
     "data": {
      "text/html": [
       "<div class=\"dni-plaintext\"><pre>[ movie_collection ]</pre></div><style>\r\n",
       ".dni-code-hint {\r\n",
       "    font-style: italic;\r\n",
       "    overflow: hidden;\r\n",
       "    white-space: nowrap;\r\n",
       "}\r\n",
       ".dni-treeview {\r\n",
       "    white-space: nowrap;\r\n",
       "}\r\n",
       ".dni-treeview td {\r\n",
       "    vertical-align: top;\r\n",
       "    text-align: start;\r\n",
       "}\r\n",
       "details.dni-treeview {\r\n",
       "    padding-left: 1em;\r\n",
       "}\r\n",
       "table td {\r\n",
       "    text-align: start;\r\n",
       "}\r\n",
       "table tr { \r\n",
       "    vertical-align: top; \r\n",
       "    margin: 0em 0px;\r\n",
       "}\r\n",
       "table tr td pre \r\n",
       "{ \r\n",
       "    vertical-align: top !important; \r\n",
       "    margin: 0em 0px !important;\r\n",
       "} \r\n",
       "table th {\r\n",
       "    text-align: start;\r\n",
       "}\r\n",
       "</style>"
      ]
     },
     "metadata": {},
     "output_type": "display_data"
    }
   ],
   "source": [
    "await client.ListCollectionsAsync()"
   ]
  },
  {
   "cell_type": "markdown",
   "metadata": {},
   "source": [
    "## Get collection info"
   ]
  },
  {
   "cell_type": "code",
   "execution_count": 10,
   "metadata": {
    "dotnet_interactive": {
     "language": "csharp"
    },
    "polyglot_notebook": {
     "kernelName": "csharp"
    }
   },
   "outputs": [
    {
     "data": {
      "text/html": [
       "<details open=\"open\" class=\"dni-treeview\"><summary><span class=\"dni-code-hint\"><code>{ &quot;status&quot;: &quot;Green&quot;, &quot;optimizerStatus&quot;: { &quot;ok&quot;: true }, &quot;segmentsCount&quot;: &quot;2&quot;, &quot;config&quot;: { &quot;params&quot;: { &quot;shardNumber&quot;: 1, &quot;vectorsConfig&quot;: { &quot;params&quot;: { &quot;size&quot;: &quot;2&quot;, &quot;distance&quot;: &quot;Cosine&quot; } }, &quot;replicationFactor&quot;: 1, &quot;writeConsistencyFactor&quot;: 1 }, &quot;hnswConfig&quot;: { &quot;m&quot;: &quot;16&quot;, &quot;efConstruct&quot;: &quot;100&quot;, &quot;fullS...</code></span></summary><div><table><thead><tr></tr></thead><tbody><tr><td>Status</td><td><span>Green</span></td></tr><tr><td>OptimizerStatus</td><td><details class=\"dni-treeview\"><summary><span class=\"dni-code-hint\"><code>{ &quot;ok&quot;: true }</code></span></summary><div><table><thead><tr></tr></thead><tbody><tr><td>Ok</td><td><div class=\"dni-plaintext\"><pre>True</pre></div></td></tr><tr><td>Error</td><td><div class=\"dni-plaintext\"><pre></pre></div></td></tr></tbody></table></div></details></td></tr><tr><td>VectorsCount</td><td><div class=\"dni-plaintext\"><pre>0</pre></div></td></tr><tr><td>SegmentsCount</td><td><div class=\"dni-plaintext\"><pre>2</pre></div></td></tr><tr><td>Config</td><td><details class=\"dni-treeview\"><summary><span class=\"dni-code-hint\"><code>{ &quot;params&quot;: { &quot;shardNumber&quot;: 1, &quot;vectorsConfig&quot;: { &quot;params&quot;: { &quot;size&quot;: &quot;2&quot;, &quot;distance&quot;: &quot;Cosine&quot; } }, &quot;replicationFactor&quot;: 1, &quot;writeConsistencyFactor&quot;: 1 }, &quot;hnswConfig&quot;: { &quot;m&quot;: &quot;16&quot;, &quot;efConstruct&quot;: &quot;100&quot;, &quot;fullScanThreshold&quot;: &quot;10000&quot;, &quot;maxIndexingThreads&quot;: &quot;0&quot;, &quot;onDisk&quot;: false }, &quot;optimizerConfig&quot;:...</code></span></summary><div><table><thead><tr></tr></thead><tbody><tr><td>Params</td><td><details class=\"dni-treeview\"><summary><span class=\"dni-code-hint\"><code>{ &quot;shardNumber&quot;: 1, &quot;vectorsConfig&quot;: { &quot;params&quot;: { &quot;size&quot;: &quot;2&quot;, &quot;distance&quot;: &quot;Cosine&quot; } }, &quot;replicationFactor&quot;: 1, &quot;writeConsistencyFactor&quot;: 1 }</code></span></summary><div><table><thead><tr></tr></thead><tbody><tr><td>ShardNumber</td><td><div class=\"dni-plaintext\"><pre>1</pre></div></td></tr><tr><td>OnDiskPayload</td><td><div class=\"dni-plaintext\"><pre>False</pre></div></td></tr><tr><td>VectorsConfig</td><td><details class=\"dni-treeview\"><summary><span class=\"dni-code-hint\"><code>{ &quot;params&quot;: { &quot;size&quot;: &quot;2&quot;, &quot;distance&quot;: &quot;Cosine&quot; } }</code></span></summary><div><table><thead><tr></tr></thead><tbody><tr><td>Params</td><td><details class=\"dni-treeview\"><summary><span class=\"dni-code-hint\"><code>{ &quot;size&quot;: &quot;2&quot;, &quot;distance&quot;: &quot;Cosine&quot; }</code></span></summary><div><table><thead><tr></tr></thead><tbody><tr><td>Size</td><td><div class=\"dni-plaintext\"><pre>2</pre></div></td></tr><tr><td>Distance</td><td><span>Cosine</span></td></tr><tr><td>HnswConfig</td><td><div class=\"dni-plaintext\"><pre>&lt;null&gt;</pre></div></td></tr><tr><td>QuantizationConfig</td><td><div class=\"dni-plaintext\"><pre>&lt;null&gt;</pre></div></td></tr><tr><td>OnDisk</td><td><div class=\"dni-plaintext\"><pre>False</pre></div></td></tr><tr><td>HasOnDisk</td><td><div class=\"dni-plaintext\"><pre>False</pre></div></td></tr></tbody></table></div></details></td></tr><tr><td>ParamsMap</td><td><div class=\"dni-plaintext\"><pre>&lt;null&gt;</pre></div></td></tr><tr><td>ConfigCase</td><td><span>Params</span></td></tr></tbody></table></div></details></td></tr><tr><td>ReplicationFactor</td><td><div class=\"dni-plaintext\"><pre>1</pre></div></td></tr><tr><td>HasReplicationFactor</td><td><div class=\"dni-plaintext\"><pre>True</pre></div></td></tr><tr><td>WriteConsistencyFactor</td><td><div class=\"dni-plaintext\"><pre>1</pre></div></td></tr><tr><td>HasWriteConsistencyFactor</td><td><div class=\"dni-plaintext\"><pre>True</pre></div></td></tr><tr><td>ReadFanOutFactor</td><td><div class=\"dni-plaintext\"><pre>0</pre></div></td></tr><tr><td>HasReadFanOutFactor</td><td><div class=\"dni-plaintext\"><pre>False</pre></div></td></tr></tbody></table></div></details></td></tr><tr><td>HnswConfig</td><td><details class=\"dni-treeview\"><summary><span class=\"dni-code-hint\"><code>{ &quot;m&quot;: &quot;16&quot;, &quot;efConstruct&quot;: &quot;100&quot;, &quot;fullScanThreshold&quot;: &quot;10000&quot;, &quot;maxIndexingThreads&quot;: &quot;0&quot;, &quot;onDisk&quot;: false }</code></span></summary><div><table><thead><tr></tr></thead><tbody><tr><td>M</td><td><div class=\"dni-plaintext\"><pre>16</pre></div></td></tr><tr><td>HasM</td><td><div class=\"dni-plaintext\"><pre>True</pre></div></td></tr><tr><td>EfConstruct</td><td><div class=\"dni-plaintext\"><pre>100</pre></div></td></tr><tr><td>HasEfConstruct</td><td><div class=\"dni-plaintext\"><pre>True</pre></div></td></tr><tr><td>FullScanThreshold</td><td><div class=\"dni-plaintext\"><pre>10000</pre></div></td></tr><tr><td>HasFullScanThreshold</td><td><div class=\"dni-plaintext\"><pre>True</pre></div></td></tr><tr><td>MaxIndexingThreads</td><td><div class=\"dni-plaintext\"><pre>0</pre></div></td></tr><tr><td>HasMaxIndexingThreads</td><td><div class=\"dni-plaintext\"><pre>True</pre></div></td></tr><tr><td>OnDisk</td><td><div class=\"dni-plaintext\"><pre>False</pre></div></td></tr><tr><td>HasOnDisk</td><td><div class=\"dni-plaintext\"><pre>True</pre></div></td></tr><tr><td>PayloadM</td><td><div class=\"dni-plaintext\"><pre>0</pre></div></td></tr><tr><td>HasPayloadM</td><td><div class=\"dni-plaintext\"><pre>False</pre></div></td></tr></tbody></table></div></details></td></tr><tr><td>OptimizerConfig</td><td><details class=\"dni-treeview\"><summary><span class=\"dni-code-hint\"><code>{ &quot;deletedThreshold&quot;: 0.2, &quot;vacuumMinVectorNumber&quot;: &quot;1000&quot;, &quot;defaultSegmentNumber&quot;: &quot;0&quot;, &quot;indexingThreshold&quot;: &quot;20000&quot;, &quot;flushIntervalSec&quot;: &quot;5&quot;, &quot;maxOptimizationThreads&quot;: &quot;1&quot; }</code></span></summary><div><table><thead><tr></tr></thead><tbody><tr><td>DeletedThreshold</td><td><div class=\"dni-plaintext\"><pre>0.2</pre></div></td></tr><tr><td>HasDeletedThreshold</td><td><div class=\"dni-plaintext\"><pre>True</pre></div></td></tr><tr><td>VacuumMinVectorNumber</td><td><div class=\"dni-plaintext\"><pre>1000</pre></div></td></tr><tr><td>HasVacuumMinVectorNumber</td><td><div class=\"dni-plaintext\"><pre>True</pre></div></td></tr><tr><td>DefaultSegmentNumber</td><td><div class=\"dni-plaintext\"><pre>0</pre></div></td></tr><tr><td>HasDefaultSegmentNumber</td><td><div class=\"dni-plaintext\"><pre>True</pre></div></td></tr><tr><td>MaxSegmentSize</td><td><div class=\"dni-plaintext\"><pre>0</pre></div></td></tr><tr><td>HasMaxSegmentSize</td><td><div class=\"dni-plaintext\"><pre>False</pre></div></td></tr><tr><td>MemmapThreshold</td><td><div class=\"dni-plaintext\"><pre>0</pre></div></td></tr><tr><td>HasMemmapThreshold</td><td><div class=\"dni-plaintext\"><pre>False</pre></div></td></tr><tr><td>IndexingThreshold</td><td><div class=\"dni-plaintext\"><pre>20000</pre></div></td></tr><tr><td>HasIndexingThreshold</td><td><div class=\"dni-plaintext\"><pre>True</pre></div></td></tr><tr><td>FlushIntervalSec</td><td><div class=\"dni-plaintext\"><pre>5</pre></div></td></tr><tr><td>HasFlushIntervalSec</td><td><div class=\"dni-plaintext\"><pre>True</pre></div></td></tr><tr><td>MaxOptimizationThreads</td><td><div class=\"dni-plaintext\"><pre>1</pre></div></td></tr><tr><td>HasMaxOptimizationThreads</td><td><div class=\"dni-plaintext\"><pre>True</pre></div></td></tr></tbody></table></div></details></td></tr><tr><td>WalConfig</td><td><details class=\"dni-treeview\"><summary><span class=\"dni-code-hint\"><code>{ &quot;walCapacityMb&quot;: &quot;32&quot;, &quot;walSegmentsAhead&quot;: &quot;0&quot; }</code></span></summary><div><table><thead><tr></tr></thead><tbody><tr><td>WalCapacityMb</td><td><div class=\"dni-plaintext\"><pre>32</pre></div></td></tr><tr><td>HasWalCapacityMb</td><td><div class=\"dni-plaintext\"><pre>True</pre></div></td></tr><tr><td>WalSegmentsAhead</td><td><div class=\"dni-plaintext\"><pre>0</pre></div></td></tr><tr><td>HasWalSegmentsAhead</td><td><div class=\"dni-plaintext\"><pre>True</pre></div></td></tr></tbody></table></div></details></td></tr><tr><td>QuantizationConfig</td><td><div class=\"dni-plaintext\"><pre>&lt;null&gt;</pre></div></td></tr></tbody></table></div></details></td></tr><tr><td>PayloadSchema</td><td><i>(empty)</i></td></tr><tr><td>PointsCount</td><td><div class=\"dni-plaintext\"><pre>0</pre></div></td></tr><tr><td>IndexedVectorsCount</td><td><div class=\"dni-plaintext\"><pre>0</pre></div></td></tr><tr><td>HasIndexedVectorsCount</td><td><div class=\"dni-plaintext\"><pre>True</pre></div></td></tr></tbody></table></div></details><style>\r\n",
       ".dni-code-hint {\r\n",
       "    font-style: italic;\r\n",
       "    overflow: hidden;\r\n",
       "    white-space: nowrap;\r\n",
       "}\r\n",
       ".dni-treeview {\r\n",
       "    white-space: nowrap;\r\n",
       "}\r\n",
       ".dni-treeview td {\r\n",
       "    vertical-align: top;\r\n",
       "    text-align: start;\r\n",
       "}\r\n",
       "details.dni-treeview {\r\n",
       "    padding-left: 1em;\r\n",
       "}\r\n",
       "table td {\r\n",
       "    text-align: start;\r\n",
       "}\r\n",
       "table tr { \r\n",
       "    vertical-align: top; \r\n",
       "    margin: 0em 0px;\r\n",
       "}\r\n",
       "table tr td pre \r\n",
       "{ \r\n",
       "    vertical-align: top !important; \r\n",
       "    margin: 0em 0px !important;\r\n",
       "} \r\n",
       "table th {\r\n",
       "    text-align: start;\r\n",
       "}\r\n",
       "</style>"
      ]
     },
     "metadata": {},
     "output_type": "display_data"
    }
   ],
   "source": [
    "await client.GetCollectionInfoAsync(\"movie_collection\")"
   ]
  },
  {
   "cell_type": "markdown",
   "metadata": {},
   "source": [
    "## Add data to collection"
   ]
  },
  {
   "cell_type": "code",
   "execution_count": 11,
   "metadata": {
    "dotnet_interactive": {
     "language": "csharp"
    },
    "polyglot_notebook": {
     "kernelName": "csharp"
    }
   },
   "outputs": [],
   "source": [
    "var data = new[] \n",
    "{\n",
    "    new PointStruct\n",
    "    {\n",
    "        Id = 1,\n",
    "        Vectors = new [] {0.10022575f, -0.23998135f},\n",
    "        Payload = \n",
    "        {\n",
    "            [\"title\"] = \"The Lion King\"\n",
    "        }\n",
    "    },\n",
    "    new PointStruct\n",
    "    {\n",
    "        Id = 2,\n",
    "        Vectors = new [] {0.10327095f, 0.2563685f},\n",
    "        Payload = \n",
    "        {\n",
    "            [\"title\"] = \"Inception\"\n",
    "        }\n",
    "    },\n",
    "    new PointStruct\n",
    "    {\n",
    "        Id = 3,\n",
    "        Vectors = new [] {0.095857024f, -0.201278f},\n",
    "        Payload = \n",
    "        {\n",
    "            [\"title\"] = \"Toy Story\"\n",
    "        }\n",
    "    },\n",
    "    new PointStruct\n",
    "    {\n",
    "        Id = 4,\n",
    "        Vectors = new [] {0.106827796f, 0.21676421f},\n",
    "        Payload = \n",
    "        {\n",
    "            [\"title\"] = \"Pulp Function\"\n",
    "        }\n",
    "    },\n",
    "    new PointStruct\n",
    "    {\n",
    "        Id = 5,\n",
    "        Vectors = new [] {0.09568083f, -0.21177962f},\n",
    "        Payload = \n",
    "        {\n",
    "            [\"title\"] = \"Shrek\"\n",
    "        }\n",
    "    },                \n",
    "};"
   ]
  },
  {
   "cell_type": "code",
   "execution_count": 12,
   "metadata": {
    "dotnet_interactive": {
     "language": "csharp"
    },
    "polyglot_notebook": {
     "kernelName": "csharp"
    }
   },
   "outputs": [],
   "source": [
    "await client.UpsertAsync(\"movie_collection\",data);"
   ]
  },
  {
   "cell_type": "markdown",
   "metadata": {},
   "source": [
    "## Get count"
   ]
  },
  {
   "cell_type": "code",
   "execution_count": 13,
   "metadata": {
    "dotnet_interactive": {
     "language": "csharp"
    },
    "polyglot_notebook": {
     "kernelName": "csharp"
    }
   },
   "outputs": [
    {
     "data": {
      "text/html": [
       "<div class=\"dni-plaintext\"><pre>5</pre></div><style>\r\n",
       ".dni-code-hint {\r\n",
       "    font-style: italic;\r\n",
       "    overflow: hidden;\r\n",
       "    white-space: nowrap;\r\n",
       "}\r\n",
       ".dni-treeview {\r\n",
       "    white-space: nowrap;\r\n",
       "}\r\n",
       ".dni-treeview td {\r\n",
       "    vertical-align: top;\r\n",
       "    text-align: start;\r\n",
       "}\r\n",
       "details.dni-treeview {\r\n",
       "    padding-left: 1em;\r\n",
       "}\r\n",
       "table td {\r\n",
       "    text-align: start;\r\n",
       "}\r\n",
       "table tr { \r\n",
       "    vertical-align: top; \r\n",
       "    margin: 0em 0px;\r\n",
       "}\r\n",
       "table tr td pre \r\n",
       "{ \r\n",
       "    vertical-align: top !important; \r\n",
       "    margin: 0em 0px !important;\r\n",
       "} \r\n",
       "table th {\r\n",
       "    text-align: start;\r\n",
       "}\r\n",
       "</style>"
      ]
     },
     "metadata": {},
     "output_type": "display_data"
    }
   ],
   "source": [
    "await client.CountAsync(\"movie_collection\")"
   ]
  },
  {
   "cell_type": "markdown",
   "metadata": {},
   "source": [
    "## Search collection\n",
    "\n",
    "Search for data using embedding vectors for the query \"A movie that's fun for the whole family\"."
   ]
  },
  {
   "cell_type": "code",
   "execution_count": 14,
   "metadata": {
    "dotnet_interactive": {
     "language": "csharp"
    },
    "polyglot_notebook": {
     "kernelName": "csharp"
    }
   },
   "outputs": [
    {
     "data": {
      "text/html": [
       "<table><thead><tr><th><i>index</i></th><th>value</th></tr></thead><tbody><tr><td>0</td><td><details class=\"dni-treeview\"><summary><span class=\"dni-code-hint\"><code>{ &quot;id&quot;: { &quot;num&quot;: &quot;3&quot; }, &quot;payload&quot;: { &quot;title&quot;: { &quot;stringValue&quot;: &quot;Toy Story&quot; } }, &quot;score&quot;: 0.66102695 }</code></span></summary><div><table><thead><tr></tr></thead><tbody><tr><td>Id</td><td><details class=\"dni-treeview\"><summary><span class=\"dni-code-hint\"><code>{ &quot;num&quot;: &quot;3&quot; }</code></span></summary><div><table><thead><tr></tr></thead><tbody><tr><td>Num</td><td><div class=\"dni-plaintext\"><pre>3</pre></div></td></tr><tr><td>HasNum</td><td><div class=\"dni-plaintext\"><pre>True</pre></div></td></tr><tr><td>Uuid</td><td><div class=\"dni-plaintext\"><pre></pre></div></td></tr><tr><td>HasUuid</td><td><div class=\"dni-plaintext\"><pre>False</pre></div></td></tr><tr><td>PointIdOptionsCase</td><td><span>Num</span></td></tr></tbody></table></div></details></td></tr><tr><td>Payload</td><td><table><thead><tr><th><i>key</i></th><th>value</th></tr></thead><tbody><tr><td><div class=\"dni-plaintext\"><pre>title</pre></div></td><td><details class=\"dni-treeview\"><summary><span class=\"dni-code-hint\"><code>{ &quot;stringValue&quot;: &quot;Toy Story&quot; }</code></span></summary><div><table><thead><tr></tr></thead><tbody><tr><td>NullValue</td><td><span>NullValue</span></td></tr><tr><td>HasNullValue</td><td><div class=\"dni-plaintext\"><pre>False</pre></div></td></tr><tr><td>DoubleValue</td><td><div class=\"dni-plaintext\"><pre>0</pre></div></td></tr><tr><td>HasDoubleValue</td><td><div class=\"dni-plaintext\"><pre>False</pre></div></td></tr><tr><td>IntegerValue</td><td><div class=\"dni-plaintext\"><pre>0</pre></div></td></tr><tr><td>HasIntegerValue</td><td><div class=\"dni-plaintext\"><pre>False</pre></div></td></tr><tr><td>StringValue</td><td><div class=\"dni-plaintext\"><pre>Toy Story</pre></div></td></tr><tr><td>HasStringValue</td><td><div class=\"dni-plaintext\"><pre>True</pre></div></td></tr><tr><td>BoolValue</td><td><div class=\"dni-plaintext\"><pre>False</pre></div></td></tr><tr><td>HasBoolValue</td><td><div class=\"dni-plaintext\"><pre>False</pre></div></td></tr><tr><td>StructValue</td><td><div class=\"dni-plaintext\"><pre>&lt;null&gt;</pre></div></td></tr><tr><td>ListValue</td><td><div class=\"dni-plaintext\"><pre>&lt;null&gt;</pre></div></td></tr><tr><td>KindCase</td><td><span>StringValue</span></td></tr></tbody></table></div></details></td></tr></tbody></table></td></tr><tr><td>Score</td><td><div class=\"dni-plaintext\"><pre>0.66102695</pre></div></td></tr><tr><td>Version</td><td><div class=\"dni-plaintext\"><pre>0</pre></div></td></tr><tr><td>Vectors</td><td><div class=\"dni-plaintext\"><pre>&lt;null&gt;</pre></div></td></tr></tbody></table></div></details></td></tr><tr><td>1</td><td><details class=\"dni-treeview\"><summary><span class=\"dni-code-hint\"><code>{ &quot;id&quot;: { &quot;num&quot;: &quot;5&quot; }, &quot;payload&quot;: { &quot;title&quot;: { &quot;stringValue&quot;: &quot;Shrek&quot; } }, &quot;score&quot;: 0.6457999 }</code></span></summary><div><table><thead><tr></tr></thead><tbody><tr><td>Id</td><td><details class=\"dni-treeview\"><summary><span class=\"dni-code-hint\"><code>{ &quot;num&quot;: &quot;5&quot; }</code></span></summary><div><table><thead><tr></tr></thead><tbody><tr><td>Num</td><td><div class=\"dni-plaintext\"><pre>5</pre></div></td></tr><tr><td>HasNum</td><td><div class=\"dni-plaintext\"><pre>True</pre></div></td></tr><tr><td>Uuid</td><td><div class=\"dni-plaintext\"><pre></pre></div></td></tr><tr><td>HasUuid</td><td><div class=\"dni-plaintext\"><pre>False</pre></div></td></tr><tr><td>PointIdOptionsCase</td><td><span>Num</span></td></tr></tbody></table></div></details></td></tr><tr><td>Payload</td><td><table><thead><tr><th><i>key</i></th><th>value</th></tr></thead><tbody><tr><td><div class=\"dni-plaintext\"><pre>title</pre></div></td><td><details class=\"dni-treeview\"><summary><span class=\"dni-code-hint\"><code>{ &quot;stringValue&quot;: &quot;Shrek&quot; }</code></span></summary><div><table><thead><tr></tr></thead><tbody><tr><td>NullValue</td><td><span>NullValue</span></td></tr><tr><td>HasNullValue</td><td><div class=\"dni-plaintext\"><pre>False</pre></div></td></tr><tr><td>DoubleValue</td><td><div class=\"dni-plaintext\"><pre>0</pre></div></td></tr><tr><td>HasDoubleValue</td><td><div class=\"dni-plaintext\"><pre>False</pre></div></td></tr><tr><td>IntegerValue</td><td><div class=\"dni-plaintext\"><pre>0</pre></div></td></tr><tr><td>HasIntegerValue</td><td><div class=\"dni-plaintext\"><pre>False</pre></div></td></tr><tr><td>StringValue</td><td><div class=\"dni-plaintext\"><pre>Shrek</pre></div></td></tr><tr><td>HasStringValue</td><td><div class=\"dni-plaintext\"><pre>True</pre></div></td></tr><tr><td>BoolValue</td><td><div class=\"dni-plaintext\"><pre>False</pre></div></td></tr><tr><td>HasBoolValue</td><td><div class=\"dni-plaintext\"><pre>False</pre></div></td></tr><tr><td>StructValue</td><td><div class=\"dni-plaintext\"><pre>&lt;null&gt;</pre></div></td></tr><tr><td>ListValue</td><td><div class=\"dni-plaintext\"><pre>&lt;null&gt;</pre></div></td></tr><tr><td>KindCase</td><td><span>StringValue</span></td></tr></tbody></table></div></details></td></tr></tbody></table></td></tr><tr><td>Score</td><td><div class=\"dni-plaintext\"><pre>0.6457999</pre></div></td></tr><tr><td>Version</td><td><div class=\"dni-plaintext\"><pre>0</pre></div></td></tr><tr><td>Vectors</td><td><div class=\"dni-plaintext\"><pre>&lt;null&gt;</pre></div></td></tr></tbody></table></div></details></td></tr><tr><td>2</td><td><details class=\"dni-treeview\"><summary><span class=\"dni-code-hint\"><code>{ &quot;id&quot;: { &quot;num&quot;: &quot;1&quot; }, &quot;payload&quot;: { &quot;title&quot;: { &quot;stringValue&quot;: &quot;The Lion King&quot; } }, &quot;score&quot;: 0.62360466 }</code></span></summary><div><table><thead><tr></tr></thead><tbody><tr><td>Id</td><td><details class=\"dni-treeview\"><summary><span class=\"dni-code-hint\"><code>{ &quot;num&quot;: &quot;1&quot; }</code></span></summary><div><table><thead><tr></tr></thead><tbody><tr><td>Num</td><td><div class=\"dni-plaintext\"><pre>1</pre></div></td></tr><tr><td>HasNum</td><td><div class=\"dni-plaintext\"><pre>True</pre></div></td></tr><tr><td>Uuid</td><td><div class=\"dni-plaintext\"><pre></pre></div></td></tr><tr><td>HasUuid</td><td><div class=\"dni-plaintext\"><pre>False</pre></div></td></tr><tr><td>PointIdOptionsCase</td><td><span>Num</span></td></tr></tbody></table></div></details></td></tr><tr><td>Payload</td><td><table><thead><tr><th><i>key</i></th><th>value</th></tr></thead><tbody><tr><td><div class=\"dni-plaintext\"><pre>title</pre></div></td><td><details class=\"dni-treeview\"><summary><span class=\"dni-code-hint\"><code>{ &quot;stringValue&quot;: &quot;The Lion King&quot; }</code></span></summary><div><table><thead><tr></tr></thead><tbody><tr><td>NullValue</td><td><span>NullValue</span></td></tr><tr><td>HasNullValue</td><td><div class=\"dni-plaintext\"><pre>False</pre></div></td></tr><tr><td>DoubleValue</td><td><div class=\"dni-plaintext\"><pre>0</pre></div></td></tr><tr><td>HasDoubleValue</td><td><div class=\"dni-plaintext\"><pre>False</pre></div></td></tr><tr><td>IntegerValue</td><td><div class=\"dni-plaintext\"><pre>0</pre></div></td></tr><tr><td>HasIntegerValue</td><td><div class=\"dni-plaintext\"><pre>False</pre></div></td></tr><tr><td>StringValue</td><td><div class=\"dni-plaintext\"><pre>The Lion King</pre></div></td></tr><tr><td>HasStringValue</td><td><div class=\"dni-plaintext\"><pre>True</pre></div></td></tr><tr><td>BoolValue</td><td><div class=\"dni-plaintext\"><pre>False</pre></div></td></tr><tr><td>HasBoolValue</td><td><div class=\"dni-plaintext\"><pre>False</pre></div></td></tr><tr><td>StructValue</td><td><div class=\"dni-plaintext\"><pre>&lt;null&gt;</pre></div></td></tr><tr><td>ListValue</td><td><div class=\"dni-plaintext\"><pre>&lt;null&gt;</pre></div></td></tr><tr><td>KindCase</td><td><span>StringValue</span></td></tr></tbody></table></div></details></td></tr></tbody></table></td></tr><tr><td>Score</td><td><div class=\"dni-plaintext\"><pre>0.62360466</pre></div></td></tr><tr><td>Version</td><td><div class=\"dni-plaintext\"><pre>0</pre></div></td></tr><tr><td>Vectors</td><td><div class=\"dni-plaintext\"><pre>&lt;null&gt;</pre></div></td></tr></tbody></table></div></details></td></tr></tbody></table><style>\r\n",
       ".dni-code-hint {\r\n",
       "    font-style: italic;\r\n",
       "    overflow: hidden;\r\n",
       "    white-space: nowrap;\r\n",
       "}\r\n",
       ".dni-treeview {\r\n",
       "    white-space: nowrap;\r\n",
       "}\r\n",
       ".dni-treeview td {\r\n",
       "    vertical-align: top;\r\n",
       "    text-align: start;\r\n",
       "}\r\n",
       "details.dni-treeview {\r\n",
       "    padding-left: 1em;\r\n",
       "}\r\n",
       "table td {\r\n",
       "    text-align: start;\r\n",
       "}\r\n",
       "table tr { \r\n",
       "    vertical-align: top; \r\n",
       "    margin: 0em 0px;\r\n",
       "}\r\n",
       "table tr td pre \r\n",
       "{ \r\n",
       "    vertical-align: top !important; \r\n",
       "    margin: 0em 0px !important;\r\n",
       "} \r\n",
       "table th {\r\n",
       "    text-align: start;\r\n",
       "}\r\n",
       "</style>"
      ]
     },
     "metadata": {},
     "output_type": "display_data"
    }
   ],
   "source": [
    "await client.SearchAsync(\"movie_collection\",new [] {0.12217915f, -0.034832448f }, limit:3)"
   ]
  }
 ],
 "metadata": {
  "kernelspec": {
   "display_name": ".NET (C#)",
   "language": "C#",
   "name": ".net-csharp"
  },
  "language_info": {
   "name": "polyglot-notebook"
  },
  "polyglot_notebook": {
   "kernelInfo": {
    "defaultKernelName": "csharp",
    "items": [
     {
      "aliases": [],
      "languageName": "csharp",
      "name": "csharp"
     }
    ]
   }
  }
 },
 "nbformat": 4,
 "nbformat_minor": 2
}
